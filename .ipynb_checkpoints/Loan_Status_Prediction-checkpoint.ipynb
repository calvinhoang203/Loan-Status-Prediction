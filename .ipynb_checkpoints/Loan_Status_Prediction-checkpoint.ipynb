{
 "cells": [
  {
   "cell_type": "markdown",
   "id": "7ca26c47",
   "metadata": {
    "id": "7ca26c47"
   },
   "source": [
    "# Loan Status Prediction"
   ]
  },
  {
   "cell_type": "markdown",
   "id": "300eed75",
   "metadata": {
    "id": "300eed75"
   },
   "source": [
    "### Importing all dependencies"
   ]
  },
  {
   "cell_type": "code",
   "execution_count": null,
   "id": "6d3b925d",
   "metadata": {
    "executionInfo": {
     "elapsed": 2295,
     "status": "ok",
     "timestamp": 1700444721533,
     "user": {
      "displayName": "Lucas Fedronic",
      "userId": "17782714696681694147"
     },
     "user_tz": 480
    },
    "id": "6d3b925d"
   },
   "outputs": [],
   "source": [
    "import numpy as np\n",
    "import pandas as pd\n",
    "import seaborn as sns\n",
    "from sklearn.model_selection import train_test_split\n",
    "from sklearn import svm\n",
    "from sklearn.metrics import accuracy_score"
   ]
  },
  {
   "cell_type": "markdown",
   "id": "ee932e9e",
   "metadata": {
    "id": "ee932e9e"
   },
   "source": [
    "### Data Collection and Processing"
   ]
  },
  {
   "cell_type": "code",
   "execution_count": 4,
   "id": "218654a4",
   "metadata": {
    "colab": {
     "base_uri": "https://localhost:8080/",
     "height": 346
    },
    "executionInfo": {
     "elapsed": 22,
     "status": "error",
     "timestamp": 1700444721534,
     "user": {
      "displayName": "Lucas Fedronic",
      "userId": "17782714696681694147"
     },
     "user_tz": 480
    },
    "id": "218654a4",
    "outputId": "f129a5f0-c541-4ea0-8c85-1ee68c731619"
   },
   "outputs": [
    {
     "ename": "FileNotFoundError",
     "evalue": "[Errno 2] No such file or directory: 'loan.csv'",
     "output_type": "error",
     "traceback": [
      "\u001b[1;31m---------------------------------------------------------------------------\u001b[0m",
      "\u001b[1;31mFileNotFoundError\u001b[0m                         Traceback (most recent call last)",
      "Cell \u001b[1;32mIn[4], line 1\u001b[0m\n\u001b[1;32m----> 1\u001b[0m loan_dataset \u001b[38;5;241m=\u001b[39m pd\u001b[38;5;241m.\u001b[39mread_csv(\u001b[38;5;124m\"\u001b[39m\u001b[38;5;124mloan.csv\u001b[39m\u001b[38;5;124m\"\u001b[39m)\n",
      "File \u001b[1;32m~\\anaconda3\\Lib\\site-packages\\pandas\\io\\parsers\\readers.py:912\u001b[0m, in \u001b[0;36mread_csv\u001b[1;34m(filepath_or_buffer, sep, delimiter, header, names, index_col, usecols, dtype, engine, converters, true_values, false_values, skipinitialspace, skiprows, skipfooter, nrows, na_values, keep_default_na, na_filter, verbose, skip_blank_lines, parse_dates, infer_datetime_format, keep_date_col, date_parser, date_format, dayfirst, cache_dates, iterator, chunksize, compression, thousands, decimal, lineterminator, quotechar, quoting, doublequote, escapechar, comment, encoding, encoding_errors, dialect, on_bad_lines, delim_whitespace, low_memory, memory_map, float_precision, storage_options, dtype_backend)\u001b[0m\n\u001b[0;32m    899\u001b[0m kwds_defaults \u001b[38;5;241m=\u001b[39m _refine_defaults_read(\n\u001b[0;32m    900\u001b[0m     dialect,\n\u001b[0;32m    901\u001b[0m     delimiter,\n\u001b[1;32m   (...)\u001b[0m\n\u001b[0;32m    908\u001b[0m     dtype_backend\u001b[38;5;241m=\u001b[39mdtype_backend,\n\u001b[0;32m    909\u001b[0m )\n\u001b[0;32m    910\u001b[0m kwds\u001b[38;5;241m.\u001b[39mupdate(kwds_defaults)\n\u001b[1;32m--> 912\u001b[0m \u001b[38;5;28;01mreturn\u001b[39;00m _read(filepath_or_buffer, kwds)\n",
      "File \u001b[1;32m~\\anaconda3\\Lib\\site-packages\\pandas\\io\\parsers\\readers.py:577\u001b[0m, in \u001b[0;36m_read\u001b[1;34m(filepath_or_buffer, kwds)\u001b[0m\n\u001b[0;32m    574\u001b[0m _validate_names(kwds\u001b[38;5;241m.\u001b[39mget(\u001b[38;5;124m\"\u001b[39m\u001b[38;5;124mnames\u001b[39m\u001b[38;5;124m\"\u001b[39m, \u001b[38;5;28;01mNone\u001b[39;00m))\n\u001b[0;32m    576\u001b[0m \u001b[38;5;66;03m# Create the parser.\u001b[39;00m\n\u001b[1;32m--> 577\u001b[0m parser \u001b[38;5;241m=\u001b[39m TextFileReader(filepath_or_buffer, \u001b[38;5;241m*\u001b[39m\u001b[38;5;241m*\u001b[39mkwds)\n\u001b[0;32m    579\u001b[0m \u001b[38;5;28;01mif\u001b[39;00m chunksize \u001b[38;5;129;01mor\u001b[39;00m iterator:\n\u001b[0;32m    580\u001b[0m     \u001b[38;5;28;01mreturn\u001b[39;00m parser\n",
      "File \u001b[1;32m~\\anaconda3\\Lib\\site-packages\\pandas\\io\\parsers\\readers.py:1407\u001b[0m, in \u001b[0;36mTextFileReader.__init__\u001b[1;34m(self, f, engine, **kwds)\u001b[0m\n\u001b[0;32m   1404\u001b[0m     \u001b[38;5;28mself\u001b[39m\u001b[38;5;241m.\u001b[39moptions[\u001b[38;5;124m\"\u001b[39m\u001b[38;5;124mhas_index_names\u001b[39m\u001b[38;5;124m\"\u001b[39m] \u001b[38;5;241m=\u001b[39m kwds[\u001b[38;5;124m\"\u001b[39m\u001b[38;5;124mhas_index_names\u001b[39m\u001b[38;5;124m\"\u001b[39m]\n\u001b[0;32m   1406\u001b[0m \u001b[38;5;28mself\u001b[39m\u001b[38;5;241m.\u001b[39mhandles: IOHandles \u001b[38;5;241m|\u001b[39m \u001b[38;5;28;01mNone\u001b[39;00m \u001b[38;5;241m=\u001b[39m \u001b[38;5;28;01mNone\u001b[39;00m\n\u001b[1;32m-> 1407\u001b[0m \u001b[38;5;28mself\u001b[39m\u001b[38;5;241m.\u001b[39m_engine \u001b[38;5;241m=\u001b[39m \u001b[38;5;28mself\u001b[39m\u001b[38;5;241m.\u001b[39m_make_engine(f, \u001b[38;5;28mself\u001b[39m\u001b[38;5;241m.\u001b[39mengine)\n",
      "File \u001b[1;32m~\\anaconda3\\Lib\\site-packages\\pandas\\io\\parsers\\readers.py:1661\u001b[0m, in \u001b[0;36mTextFileReader._make_engine\u001b[1;34m(self, f, engine)\u001b[0m\n\u001b[0;32m   1659\u001b[0m     \u001b[38;5;28;01mif\u001b[39;00m \u001b[38;5;124m\"\u001b[39m\u001b[38;5;124mb\u001b[39m\u001b[38;5;124m\"\u001b[39m \u001b[38;5;129;01mnot\u001b[39;00m \u001b[38;5;129;01min\u001b[39;00m mode:\n\u001b[0;32m   1660\u001b[0m         mode \u001b[38;5;241m+\u001b[39m\u001b[38;5;241m=\u001b[39m \u001b[38;5;124m\"\u001b[39m\u001b[38;5;124mb\u001b[39m\u001b[38;5;124m\"\u001b[39m\n\u001b[1;32m-> 1661\u001b[0m \u001b[38;5;28mself\u001b[39m\u001b[38;5;241m.\u001b[39mhandles \u001b[38;5;241m=\u001b[39m get_handle(\n\u001b[0;32m   1662\u001b[0m     f,\n\u001b[0;32m   1663\u001b[0m     mode,\n\u001b[0;32m   1664\u001b[0m     encoding\u001b[38;5;241m=\u001b[39m\u001b[38;5;28mself\u001b[39m\u001b[38;5;241m.\u001b[39moptions\u001b[38;5;241m.\u001b[39mget(\u001b[38;5;124m\"\u001b[39m\u001b[38;5;124mencoding\u001b[39m\u001b[38;5;124m\"\u001b[39m, \u001b[38;5;28;01mNone\u001b[39;00m),\n\u001b[0;32m   1665\u001b[0m     compression\u001b[38;5;241m=\u001b[39m\u001b[38;5;28mself\u001b[39m\u001b[38;5;241m.\u001b[39moptions\u001b[38;5;241m.\u001b[39mget(\u001b[38;5;124m\"\u001b[39m\u001b[38;5;124mcompression\u001b[39m\u001b[38;5;124m\"\u001b[39m, \u001b[38;5;28;01mNone\u001b[39;00m),\n\u001b[0;32m   1666\u001b[0m     memory_map\u001b[38;5;241m=\u001b[39m\u001b[38;5;28mself\u001b[39m\u001b[38;5;241m.\u001b[39moptions\u001b[38;5;241m.\u001b[39mget(\u001b[38;5;124m\"\u001b[39m\u001b[38;5;124mmemory_map\u001b[39m\u001b[38;5;124m\"\u001b[39m, \u001b[38;5;28;01mFalse\u001b[39;00m),\n\u001b[0;32m   1667\u001b[0m     is_text\u001b[38;5;241m=\u001b[39mis_text,\n\u001b[0;32m   1668\u001b[0m     errors\u001b[38;5;241m=\u001b[39m\u001b[38;5;28mself\u001b[39m\u001b[38;5;241m.\u001b[39moptions\u001b[38;5;241m.\u001b[39mget(\u001b[38;5;124m\"\u001b[39m\u001b[38;5;124mencoding_errors\u001b[39m\u001b[38;5;124m\"\u001b[39m, \u001b[38;5;124m\"\u001b[39m\u001b[38;5;124mstrict\u001b[39m\u001b[38;5;124m\"\u001b[39m),\n\u001b[0;32m   1669\u001b[0m     storage_options\u001b[38;5;241m=\u001b[39m\u001b[38;5;28mself\u001b[39m\u001b[38;5;241m.\u001b[39moptions\u001b[38;5;241m.\u001b[39mget(\u001b[38;5;124m\"\u001b[39m\u001b[38;5;124mstorage_options\u001b[39m\u001b[38;5;124m\"\u001b[39m, \u001b[38;5;28;01mNone\u001b[39;00m),\n\u001b[0;32m   1670\u001b[0m )\n\u001b[0;32m   1671\u001b[0m \u001b[38;5;28;01massert\u001b[39;00m \u001b[38;5;28mself\u001b[39m\u001b[38;5;241m.\u001b[39mhandles \u001b[38;5;129;01mis\u001b[39;00m \u001b[38;5;129;01mnot\u001b[39;00m \u001b[38;5;28;01mNone\u001b[39;00m\n\u001b[0;32m   1672\u001b[0m f \u001b[38;5;241m=\u001b[39m \u001b[38;5;28mself\u001b[39m\u001b[38;5;241m.\u001b[39mhandles\u001b[38;5;241m.\u001b[39mhandle\n",
      "File \u001b[1;32m~\\anaconda3\\Lib\\site-packages\\pandas\\io\\common.py:859\u001b[0m, in \u001b[0;36mget_handle\u001b[1;34m(path_or_buf, mode, encoding, compression, memory_map, is_text, errors, storage_options)\u001b[0m\n\u001b[0;32m    854\u001b[0m \u001b[38;5;28;01melif\u001b[39;00m \u001b[38;5;28misinstance\u001b[39m(handle, \u001b[38;5;28mstr\u001b[39m):\n\u001b[0;32m    855\u001b[0m     \u001b[38;5;66;03m# Check whether the filename is to be opened in binary mode.\u001b[39;00m\n\u001b[0;32m    856\u001b[0m     \u001b[38;5;66;03m# Binary mode does not support 'encoding' and 'newline'.\u001b[39;00m\n\u001b[0;32m    857\u001b[0m     \u001b[38;5;28;01mif\u001b[39;00m ioargs\u001b[38;5;241m.\u001b[39mencoding \u001b[38;5;129;01mand\u001b[39;00m \u001b[38;5;124m\"\u001b[39m\u001b[38;5;124mb\u001b[39m\u001b[38;5;124m\"\u001b[39m \u001b[38;5;129;01mnot\u001b[39;00m \u001b[38;5;129;01min\u001b[39;00m ioargs\u001b[38;5;241m.\u001b[39mmode:\n\u001b[0;32m    858\u001b[0m         \u001b[38;5;66;03m# Encoding\u001b[39;00m\n\u001b[1;32m--> 859\u001b[0m         handle \u001b[38;5;241m=\u001b[39m \u001b[38;5;28mopen\u001b[39m(\n\u001b[0;32m    860\u001b[0m             handle,\n\u001b[0;32m    861\u001b[0m             ioargs\u001b[38;5;241m.\u001b[39mmode,\n\u001b[0;32m    862\u001b[0m             encoding\u001b[38;5;241m=\u001b[39mioargs\u001b[38;5;241m.\u001b[39mencoding,\n\u001b[0;32m    863\u001b[0m             errors\u001b[38;5;241m=\u001b[39merrors,\n\u001b[0;32m    864\u001b[0m             newline\u001b[38;5;241m=\u001b[39m\u001b[38;5;124m\"\u001b[39m\u001b[38;5;124m\"\u001b[39m,\n\u001b[0;32m    865\u001b[0m         )\n\u001b[0;32m    866\u001b[0m     \u001b[38;5;28;01melse\u001b[39;00m:\n\u001b[0;32m    867\u001b[0m         \u001b[38;5;66;03m# Binary mode\u001b[39;00m\n\u001b[0;32m    868\u001b[0m         handle \u001b[38;5;241m=\u001b[39m \u001b[38;5;28mopen\u001b[39m(handle, ioargs\u001b[38;5;241m.\u001b[39mmode)\n",
      "\u001b[1;31mFileNotFoundError\u001b[0m: [Errno 2] No such file or directory: 'loan.csv'"
     ]
    }
   ],
   "source": [
    "loan_dataset = pd.read_csv(\"loan.csv\")"
   ]
  },
  {
   "cell_type": "code",
   "execution_count": null,
   "id": "cf4f5aed",
   "metadata": {
    "executionInfo": {
     "elapsed": 16,
     "status": "aborted",
     "timestamp": 1700444721534,
     "user": {
      "displayName": "Lucas Fedronic",
      "userId": "17782714696681694147"
     },
     "user_tz": 480
    },
    "id": "cf4f5aed"
   },
   "outputs": [],
   "source": [
    "loan_dataset.head()"
   ]
  },
  {
   "cell_type": "code",
   "execution_count": null,
   "id": "80ed434d",
   "metadata": {
    "executionInfo": {
     "elapsed": 15,
     "status": "aborted",
     "timestamp": 1700444721534,
     "user": {
      "displayName": "Lucas Fedronic",
      "userId": "17782714696681694147"
     },
     "user_tz": 480
    },
    "id": "80ed434d"
   },
   "outputs": [],
   "source": [
    "# number of rows and columns\n",
    "loan_dataset.shape"
   ]
  },
  {
   "cell_type": "code",
   "execution_count": null,
   "id": "cf55585c",
   "metadata": {
    "executionInfo": {
     "elapsed": 14,
     "status": "aborted",
     "timestamp": 1700444721534,
     "user": {
      "displayName": "Lucas Fedronic",
      "userId": "17782714696681694147"
     },
     "user_tz": 480
    },
    "id": "cf55585c"
   },
   "outputs": [],
   "source": [
    "# statistical measures\n",
    "loan_dataset.describe()"
   ]
  },
  {
   "cell_type": "code",
   "execution_count": null,
   "id": "d8ff3824",
   "metadata": {
    "executionInfo": {
     "elapsed": 14,
     "status": "aborted",
     "timestamp": 1700444721534,
     "user": {
      "displayName": "Lucas Fedronic",
      "userId": "17782714696681694147"
     },
     "user_tz": 480
    },
    "id": "d8ff3824"
   },
   "outputs": [],
   "source": [
    "# missing values\n",
    "loan_dataset.isnull().sum()"
   ]
  },
  {
   "cell_type": "code",
   "execution_count": null,
   "id": "3898306f",
   "metadata": {
    "executionInfo": {
     "elapsed": 14,
     "status": "aborted",
     "timestamp": 1700444721534,
     "user": {
      "displayName": "Lucas Fedronic",
      "userId": "17782714696681694147"
     },
     "user_tz": 480
    },
    "id": "3898306f"
   },
   "outputs": [],
   "source": [
    "# dropping the missing values\n",
    "loan_dataset = loan_dataset.dropna()"
   ]
  },
  {
   "cell_type": "code",
   "execution_count": null,
   "id": "06d6fcbd",
   "metadata": {
    "executionInfo": {
     "elapsed": 14,
     "status": "aborted",
     "timestamp": 1700444721534,
     "user": {
      "displayName": "Lucas Fedronic",
      "userId": "17782714696681694147"
     },
     "user_tz": 480
    },
    "id": "06d6fcbd"
   },
   "outputs": [],
   "source": [
    "# check again\n",
    "loan_dataset.isnull().sum()"
   ]
  },
  {
   "cell_type": "code",
   "execution_count": null,
   "id": "86cdda38",
   "metadata": {
    "executionInfo": {
     "elapsed": 15,
     "status": "aborted",
     "timestamp": 1700444721535,
     "user": {
      "displayName": "Lucas Fedronic",
      "userId": "17782714696681694147"
     },
     "user_tz": 480
    },
    "id": "86cdda38"
   },
   "outputs": [],
   "source": [
    "# label encoding\n",
    "loan_dataset.replace({\"Loan_Status\": {\"N\":0, \"Y\":1}}, inplace = True)"
   ]
  },
  {
   "cell_type": "code",
   "execution_count": null,
   "id": "252bdab3",
   "metadata": {
    "executionInfo": {
     "elapsed": 14,
     "status": "aborted",
     "timestamp": 1700444721535,
     "user": {
      "displayName": "Lucas Fedronic",
      "userId": "17782714696681694147"
     },
     "user_tz": 480
    },
    "id": "252bdab3"
   },
   "outputs": [],
   "source": [
    "loan_dataset.head()"
   ]
  },
  {
   "cell_type": "code",
   "execution_count": null,
   "id": "0bbd0292",
   "metadata": {
    "executionInfo": {
     "elapsed": 14,
     "status": "aborted",
     "timestamp": 1700444721535,
     "user": {
      "displayName": "Lucas Fedronic",
      "userId": "17782714696681694147"
     },
     "user_tz": 480
    },
    "id": "0bbd0292"
   },
   "outputs": [],
   "source": [
    "# dependent columns values\n",
    "loan_dataset[\"Dependents\"].value_counts()"
   ]
  },
  {
   "cell_type": "code",
   "execution_count": null,
   "id": "68adedda",
   "metadata": {
    "executionInfo": {
     "elapsed": 14,
     "status": "aborted",
     "timestamp": 1700444721535,
     "user": {
      "displayName": "Lucas Fedronic",
      "userId": "17782714696681694147"
     },
     "user_tz": 480
    },
    "id": "68adedda"
   },
   "outputs": [],
   "source": [
    "# replacing the value of 3+ to 4\n",
    "loan_dataset = loan_dataset.replace(to_replace='3+', value = 4)"
   ]
  },
  {
   "cell_type": "code",
   "execution_count": null,
   "id": "cf03fb57",
   "metadata": {
    "executionInfo": {
     "elapsed": 13,
     "status": "aborted",
     "timestamp": 1700444721535,
     "user": {
      "displayName": "Lucas Fedronic",
      "userId": "17782714696681694147"
     },
     "user_tz": 480
    },
    "id": "cf03fb57"
   },
   "outputs": [],
   "source": [
    "loan_dataset[\"Dependents\"].value_counts()"
   ]
  },
  {
   "cell_type": "markdown",
   "id": "24bc4af6",
   "metadata": {
    "id": "24bc4af6"
   },
   "source": [
    "### Data Visualization"
   ]
  },
  {
   "cell_type": "code",
   "execution_count": null,
   "id": "9ac30cb8",
   "metadata": {
    "executionInfo": {
     "elapsed": 13,
     "status": "aborted",
     "timestamp": 1700444721535,
     "user": {
      "displayName": "Lucas Fedronic",
      "userId": "17782714696681694147"
     },
     "user_tz": 480
    },
    "id": "9ac30cb8"
   },
   "outputs": [],
   "source": [
    "import matplotlib.pyplot as plt"
   ]
  },
  {
   "cell_type": "code",
   "execution_count": null,
   "id": "e9bf0e0e",
   "metadata": {
    "executionInfo": {
     "elapsed": 13,
     "status": "aborted",
     "timestamp": 1700444721535,
     "user": {
      "displayName": "Lucas Fedronic",
      "userId": "17782714696681694147"
     },
     "user_tz": 480
    },
    "id": "e9bf0e0e"
   },
   "outputs": [],
   "source": [
    "sns.set_palette(\"tab10\")"
   ]
  },
  {
   "cell_type": "code",
   "execution_count": null,
   "id": "922c7f29",
   "metadata": {
    "executionInfo": {
     "elapsed": 13,
     "status": "aborted",
     "timestamp": 1700444721535,
     "user": {
      "displayName": "Lucas Fedronic",
      "userId": "17782714696681694147"
     },
     "user_tz": 480
    },
    "id": "922c7f29"
   },
   "outputs": [],
   "source": [
    "# education and load status\n",
    "sns.countplot(x = 'Education', hue = \"Loan_Status\", data = loan_dataset)\n",
    "plt.show()"
   ]
  },
  {
   "cell_type": "code",
   "execution_count": null,
   "id": "534e8173",
   "metadata": {
    "executionInfo": {
     "elapsed": 13,
     "status": "aborted",
     "timestamp": 1700444721535,
     "user": {
      "displayName": "Lucas Fedronic",
      "userId": "17782714696681694147"
     },
     "user_tz": 480
    },
    "id": "534e8173"
   },
   "outputs": [],
   "source": [
    "# Marital status and loan status\n",
    "sns.countplot(x = 'Married', hue = \"Loan_Status\", data = loan_dataset)\n",
    "plt.show()"
   ]
  },
  {
   "cell_type": "code",
   "execution_count": null,
   "id": "47bfebeb",
   "metadata": {
    "executionInfo": {
     "elapsed": 14,
     "status": "aborted",
     "timestamp": 1700444721536,
     "user": {
      "displayName": "Lucas Fedronic",
      "userId": "17782714696681694147"
     },
     "user_tz": 480
    },
    "id": "47bfebeb"
   },
   "outputs": [],
   "source": [
    "# marital Gender and loan status\n",
    "sns.countplot(x = 'Gender', hue = \"Loan_Status\", data = loan_dataset)\n",
    "plt.show()"
   ]
  },
  {
   "cell_type": "code",
   "execution_count": null,
   "id": "1b161d49",
   "metadata": {
    "executionInfo": {
     "elapsed": 14,
     "status": "aborted",
     "timestamp": 1700444721536,
     "user": {
      "displayName": "Lucas Fedronic",
      "userId": "17782714696681694147"
     },
     "user_tz": 480
    },
    "id": "1b161d49"
   },
   "outputs": [],
   "source": [
    "# marital Self_Employed and loan status\n",
    "sns.countplot(x = 'Self_Employed', hue = \"Loan_Status\", data = loan_dataset)\n",
    "plt.show()"
   ]
  },
  {
   "cell_type": "markdown",
   "id": "03f05e49",
   "metadata": {
    "id": "03f05e49"
   },
   "source": [
    "### Feature Engineering"
   ]
  },
  {
   "cell_type": "code",
   "execution_count": null,
   "id": "749ca137",
   "metadata": {
    "executionInfo": {
     "elapsed": 14,
     "status": "aborted",
     "timestamp": 1700444721536,
     "user": {
      "displayName": "Lucas Fedronic",
      "userId": "17782714696681694147"
     },
     "user_tz": 480
    },
    "id": "749ca137"
   },
   "outputs": [],
   "source": [
    "# convert categorical columns to numerical values\n",
    "loan_dataset.replace({\"Married\":{\"No\":0, \"Yes\":1},\n",
    "                      \"Gender\":{\"Male\":1, \"Female\": 0},\n",
    "                      \"Self_Employed\": {\"No\": 0, \"Yes\": 1},\n",
    "                      \"Property_Area\": {\"Rural\": 0, \"Semiurban\": 1, \"Urban\": 2},\n",
    "                      \"Education\": {\"Graduate\": 1, \"Not Graduate\": 0},\n",
    "                      \"Dependents\": {\"0\": 0, \"1\": 1}\n",
    "                     }, inplace = True)"
   ]
  },
  {
   "cell_type": "code",
   "execution_count": null,
   "id": "13300d76",
   "metadata": {
    "executionInfo": {
     "elapsed": 13,
     "status": "aborted",
     "timestamp": 1700444721536,
     "user": {
      "displayName": "Lucas Fedronic",
      "userId": "17782714696681694147"
     },
     "user_tz": 480
    },
    "id": "13300d76"
   },
   "outputs": [],
   "source": [
    "loan_dataset.head()"
   ]
  },
  {
   "cell_type": "code",
   "execution_count": null,
   "id": "41939243",
   "metadata": {
    "executionInfo": {
     "elapsed": 13,
     "status": "aborted",
     "timestamp": 1700444721536,
     "user": {
      "displayName": "Lucas Fedronic",
      "userId": "17782714696681694147"
     },
     "user_tz": 480
    },
    "id": "41939243"
   },
   "outputs": [],
   "source": [
    "# data and label separation\n",
    "X = loan_dataset.drop(columns = [\"Loan_ID\", \"Loan_Status\"], axis = 1).values\n",
    "Y = loan_dataset[\"Loan_Status\"].values"
   ]
  },
  {
   "cell_type": "code",
   "execution_count": null,
   "id": "5b3085c8",
   "metadata": {
    "executionInfo": {
     "elapsed": 13,
     "status": "aborted",
     "timestamp": 1700444721536,
     "user": {
      "displayName": "Lucas Fedronic",
      "userId": "17782714696681694147"
     },
     "user_tz": 480
    },
    "id": "5b3085c8"
   },
   "outputs": [],
   "source": [
    "print(X)\n",
    "print(Y)"
   ]
  },
  {
   "cell_type": "markdown",
   "id": "748d0ba9",
   "metadata": {
    "id": "748d0ba9"
   },
   "source": [
    "### Split Training and Test data"
   ]
  },
  {
   "cell_type": "code",
   "execution_count": null,
   "id": "166f8dfc",
   "metadata": {
    "executionInfo": {
     "elapsed": 13,
     "status": "aborted",
     "timestamp": 1700444721536,
     "user": {
      "displayName": "Lucas Fedronic",
      "userId": "17782714696681694147"
     },
     "user_tz": 480
    },
    "id": "166f8dfc"
   },
   "outputs": [],
   "source": [
    "X_train, X_test, Y_train, Y_test = train_test_split(X, Y, test_size = 0.1, stratify = Y, random_state = 2)"
   ]
  },
  {
   "cell_type": "code",
   "execution_count": null,
   "id": "fe6af488",
   "metadata": {
    "executionInfo": {
     "elapsed": 13,
     "status": "aborted",
     "timestamp": 1700444721536,
     "user": {
      "displayName": "Lucas Fedronic",
      "userId": "17782714696681694147"
     },
     "user_tz": 480
    },
    "id": "fe6af488"
   },
   "outputs": [],
   "source": [
    "print(\"Total data: \", X.shape)\n",
    "print(\"Train data: \", X_train.shape)\n",
    "print(\"Test data: \", X_test.shape)"
   ]
  },
  {
   "cell_type": "code",
   "execution_count": null,
   "id": "8ab1e84d",
   "metadata": {
    "executionInfo": {
     "elapsed": 13,
     "status": "aborted",
     "timestamp": 1700444721536,
     "user": {
      "displayName": "Lucas Fedronic",
      "userId": "17782714696681694147"
     },
     "user_tz": 480
    },
    "id": "8ab1e84d"
   },
   "outputs": [],
   "source": [
    "print(X_train)\n",
    "print(Y_train)"
   ]
  },
  {
   "cell_type": "markdown",
   "id": "d4c12e23",
   "metadata": {
    "id": "d4c12e23"
   },
   "source": [
    "### Model Training"
   ]
  },
  {
   "cell_type": "code",
   "execution_count": null,
   "id": "7e172d31",
   "metadata": {
    "executionInfo": {
     "elapsed": 12,
     "status": "aborted",
     "timestamp": 1700444721536,
     "user": {
      "displayName": "Lucas Fedronic",
      "userId": "17782714696681694147"
     },
     "user_tz": 480
    },
    "id": "7e172d31"
   },
   "outputs": [],
   "source": [
    "classifier = svm.SVC(kernel = \"linear\")"
   ]
  },
  {
   "cell_type": "code",
   "execution_count": null,
   "id": "a769686e",
   "metadata": {
    "executionInfo": {
     "elapsed": 12,
     "status": "aborted",
     "timestamp": 1700444721536,
     "user": {
      "displayName": "Lucas Fedronic",
      "userId": "17782714696681694147"
     },
     "user_tz": 480
    },
    "id": "a769686e"
   },
   "outputs": [],
   "source": [
    "# training svc\n",
    "classifier.fit(X_train, Y_train)"
   ]
  },
  {
   "cell_type": "markdown",
   "id": "d73c60b3",
   "metadata": {
    "id": "d73c60b3"
   },
   "source": [
    "### Model Evaluation"
   ]
  },
  {
   "cell_type": "code",
   "execution_count": null,
   "id": "8121fb71",
   "metadata": {
    "executionInfo": {
     "elapsed": 13,
     "status": "aborted",
     "timestamp": 1700444721537,
     "user": {
      "displayName": "Lucas Fedronic",
      "userId": "17782714696681694147"
     },
     "user_tz": 480
    },
    "id": "8121fb71"
   },
   "outputs": [],
   "source": [
    "# accuracy score on the training data\n",
    "X_train_prediciton = classifier.predict(X_train)\n",
    "training_data_accuracy = accuracy_score(X_train_prediciton, Y_train)\n",
    "print(\"Accuracy on training data: \", training_data_accuracy)"
   ]
  },
  {
   "cell_type": "code",
   "execution_count": null,
   "id": "cb7684e5",
   "metadata": {
    "executionInfo": {
     "elapsed": 13,
     "status": "aborted",
     "timestamp": 1700444721537,
     "user": {
      "displayName": "Lucas Fedronic",
      "userId": "17782714696681694147"
     },
     "user_tz": 480
    },
    "id": "cb7684e5"
   },
   "outputs": [],
   "source": [
    "# accuracy score on the test data\n",
    "X_test_prediction = classifier.predict(X_test)\n",
    "test_data_accuracy = accuracy_score(X_test_prediction, Y_test)\n",
    "print(\"Accuracy on test data: \", test_data_accuracy)"
   ]
  },
  {
   "cell_type": "markdown",
   "id": "dfa1eac3",
   "metadata": {
    "id": "dfa1eac3"
   },
   "source": [
    "# Predictive System"
   ]
  },
  {
   "cell_type": "code",
   "execution_count": null,
   "id": "b42e59e9",
   "metadata": {
    "id": "b42e59e9",
    "outputId": "afb3f7c5-d4e8-4e54-dbf6-9b5be242a527"
   },
   "outputs": [
    {
     "data": {
      "text/plain": [
       "array([1, 1, 0, 0, 1, 1, 1, 1, 1, 1, 1, 0, 1, 1, 1, 1, 1, 1, 1, 0, 1, 1,\n",
       "       0, 0, 0, 1, 1, 1, 0, 0, 1, 0, 0, 1, 1, 0, 1, 1, 1, 0, 1, 1, 0, 1,\n",
       "       0, 1, 1, 1], dtype=int64)"
      ]
     },
     "execution_count": 187,
     "metadata": {},
     "output_type": "execute_result"
    }
   ],
   "source": [
    "Y_test"
   ]
  },
  {
   "cell_type": "code",
   "execution_count": null,
   "id": "acac5c53",
   "metadata": {
    "id": "acac5c53",
    "outputId": "9c38ab72-a751-4be1-a4d3-5264594be9d6"
   },
   "outputs": [
    {
     "data": {
      "text/plain": [
       "0"
      ]
     },
     "execution_count": 202,
     "metadata": {},
     "output_type": "execute_result"
    }
   ],
   "source": [
    "Y_test[19]"
   ]
  },
  {
   "cell_type": "code",
   "execution_count": null,
   "id": "ec5efd4d",
   "metadata": {
    "id": "ec5efd4d"
   },
   "outputs": [],
   "source": [
    "#Y[6]"
   ]
  },
  {
   "cell_type": "code",
   "execution_count": null,
   "id": "b42245fb",
   "metadata": {
    "id": "b42245fb",
    "outputId": "bcb46167-b4ef-4d92-dce8-7e5018cb9b72"
   },
   "outputs": [
    {
     "data": {
      "text/plain": [
       "array([1, 0, 0, 0, 0, 2333, 1451.0, 102.0, 480.0, 0.0, 2], dtype=object)"
      ]
     },
     "execution_count": 203,
     "metadata": {},
     "output_type": "execute_result"
    }
   ],
   "source": [
    "X_new = X_test[19]\n",
    "#X_new = X[6]\n",
    "X_new"
   ]
  },
  {
   "cell_type": "code",
   "execution_count": null,
   "id": "d84dcb28",
   "metadata": {
    "id": "d84dcb28",
    "outputId": "dc6785fd-db66-4655-d076-cde89025aa5a"
   },
   "outputs": [
    {
     "data": {
      "text/plain": [
       "array([[1, 0, 0, 0, 0, 2333, 1451.0, 102.0, 480.0, 0.0, 2]], dtype=object)"
      ]
     },
     "execution_count": 204,
     "metadata": {},
     "output_type": "execute_result"
    }
   ],
   "source": [
    "X_new = X_new.reshape(1, -1)\n",
    "X_new"
   ]
  },
  {
   "cell_type": "code",
   "execution_count": null,
   "id": "0a855c23",
   "metadata": {
    "id": "0a855c23",
    "outputId": "7d10b345-cb0c-472c-d19b-c2ff0be88697"
   },
   "outputs": [
    {
     "name": "stdout",
     "output_type": "stream",
     "text": [
      "[0]\n"
     ]
    }
   ],
   "source": [
    "prediction = classifier.predict(X_new)\n",
    "print(prediction)"
   ]
  },
  {
   "cell_type": "code",
   "execution_count": null,
   "id": "d8b09746",
   "metadata": {
    "id": "d8b09746",
    "outputId": "475e0fa2-2986-4a6e-caac-20cb037926d9"
   },
   "outputs": [
    {
     "name": "stdout",
     "output_type": "stream",
     "text": [
      "Loan not approved.\n"
     ]
    }
   ],
   "source": [
    "if(prediction[0] == 0):\n",
    "    print(\"Loan not approved.\")\n",
    "else:\n",
    "    print(\"Loan approved\")"
   ]
  },
  {
   "cell_type": "code",
   "execution_count": null,
   "id": "9dd2e1f7",
   "metadata": {
    "id": "9dd2e1f7"
   },
   "outputs": [],
   "source": []
  }
 ],
 "metadata": {
  "colab": {
   "provenance": []
  },
  "kernelspec": {
   "display_name": "Python 3 (ipykernel)",
   "language": "python",
   "name": "python3"
  },
  "language_info": {
   "codemirror_mode": {
    "name": "ipython",
    "version": 3
   },
   "file_extension": ".py",
   "mimetype": "text/x-python",
   "name": "python",
   "nbconvert_exporter": "python",
   "pygments_lexer": "ipython3",
   "version": "3.11.5"
  }
 },
 "nbformat": 4,
 "nbformat_minor": 5
}
